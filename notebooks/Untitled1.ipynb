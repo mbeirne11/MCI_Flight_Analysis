{
 "cells": [
  {
   "cell_type": "code",
   "execution_count": 7,
   "id": "2c414c25",
   "metadata": {},
   "outputs": [],
   "source": [
    "import pymongo\n",
    "import pandas as pd\n",
    "serverUrl = \"mongodb://localhost:27017\"\n",
    "client = pymongo.MongoClient(serverUrl)\n",
    "db = client.MCI\n",
    "years_data = pd.DataFrame(list(db.stats_by_year.find())).drop('_id',axis=1)\n",
    "months_data = pd.DataFrame(list(db.stats_by_month.find())).drop('_id',axis=1)\n",
    "dows_data = pd.DataFrame(list(db.stats_by_dow.find())).drop('_id',axis=1)\n",
    "carriers_data = pd.DataFrame(list(db.stats_by_carrier.find())).drop('_id',axis=1)\n",
    "X = pd.DataFrame(list(db.X_dummies.find())).drop('_id',axis=1)"
   ]
  },
  {
   "cell_type": "code",
   "execution_count": 9,
   "id": "ad2b65b7",
   "metadata": {},
   "outputs": [],
   "source": [
    "years_data.to_csv('../Resources/years_data.csv')\n",
    "months_data.to_csv('../Resources/months_data.csv')\n",
    "dows_data.to_csv('../Resources/dows_data.csv')\n",
    "carriers_data.to_csv('../Resources/carriers_data.csv')\n",
    "X.to_csv('../Resources/X.csv')"
   ]
  },
  {
   "cell_type": "code",
   "execution_count": 12,
   "id": "cf92e192",
   "metadata": {},
   "outputs": [
    {
     "data": {
      "text/html": [
       "<div>\n",
       "<style scoped>\n",
       "    .dataframe tbody tr th:only-of-type {\n",
       "        vertical-align: middle;\n",
       "    }\n",
       "\n",
       "    .dataframe tbody tr th {\n",
       "        vertical-align: top;\n",
       "    }\n",
       "\n",
       "    .dataframe thead th {\n",
       "        text-align: right;\n",
       "    }\n",
       "</style>\n",
       "<table border=\"1\" class=\"dataframe\">\n",
       "  <thead>\n",
       "    <tr style=\"text-align: right;\">\n",
       "      <th></th>\n",
       "      <th></th>\n",
       "      <th>YEAR_new</th>\n",
       "      <th>YEAR_old</th>\n",
       "      <th>MONTH_April</th>\n",
       "      <th>MONTH_August</th>\n",
       "      <th>MONTH_December</th>\n",
       "      <th>MONTH_February</th>\n",
       "      <th>MONTH_January</th>\n",
       "      <th>MONTH_July</th>\n",
       "      <th>MONTH_Jun</th>\n",
       "      <th>...</th>\n",
       "      <th>DEP_TIME_BLK_1400-1459</th>\n",
       "      <th>DEP_TIME_BLK_1500-1559</th>\n",
       "      <th>DEP_TIME_BLK_1600-1659</th>\n",
       "      <th>DEP_TIME_BLK_1700-1759</th>\n",
       "      <th>DEP_TIME_BLK_1800-1859</th>\n",
       "      <th>DEP_TIME_BLK_1900-1959</th>\n",
       "      <th>DEP_TIME_BLK_2000-2059</th>\n",
       "      <th>DEP_TIME_BLK_2100-2159</th>\n",
       "      <th>DEP_TIME_BLK_2200-2259</th>\n",
       "      <th>DEP_TIME_BLK_2300-2359</th>\n",
       "    </tr>\n",
       "  </thead>\n",
       "  <tbody>\n",
       "    <tr>\n",
       "      <th>0</th>\n",
       "      <td>0</td>\n",
       "      <td>0</td>\n",
       "      <td>1</td>\n",
       "      <td>0</td>\n",
       "      <td>0</td>\n",
       "      <td>0</td>\n",
       "      <td>0</td>\n",
       "      <td>1</td>\n",
       "      <td>0</td>\n",
       "      <td>0</td>\n",
       "      <td>...</td>\n",
       "      <td>0</td>\n",
       "      <td>0</td>\n",
       "      <td>0</td>\n",
       "      <td>0</td>\n",
       "      <td>0</td>\n",
       "      <td>0</td>\n",
       "      <td>0</td>\n",
       "      <td>0</td>\n",
       "      <td>0</td>\n",
       "      <td>0</td>\n",
       "    </tr>\n",
       "  </tbody>\n",
       "</table>\n",
       "<p>1 rows × 193 columns</p>\n",
       "</div>"
      ],
      "text/plain": [
       "      YEAR_new  YEAR_old  MONTH_April  MONTH_August  MONTH_December  \\\n",
       "0  0         0         1            0             0               0   \n",
       "\n",
       "   MONTH_February  MONTH_January  MONTH_July  MONTH_Jun  ...  \\\n",
       "0               0              1           0          0  ...   \n",
       "\n",
       "   DEP_TIME_BLK_1400-1459  DEP_TIME_BLK_1500-1559  DEP_TIME_BLK_1600-1659  \\\n",
       "0                       0                       0                       0   \n",
       "\n",
       "   DEP_TIME_BLK_1700-1759  DEP_TIME_BLK_1800-1859  DEP_TIME_BLK_1900-1959  \\\n",
       "0                       0                       0                       0   \n",
       "\n",
       "   DEP_TIME_BLK_2000-2059  DEP_TIME_BLK_2100-2159  DEP_TIME_BLK_2200-2259  \\\n",
       "0                       0                       0                       0   \n",
       "\n",
       "   DEP_TIME_BLK_2300-2359  \n",
       "0                       0  \n",
       "\n",
       "[1 rows x 193 columns]"
      ]
     },
     "execution_count": 12,
     "metadata": {},
     "output_type": "execute_result"
    }
   ],
   "source": [
    "X"
   ]
  },
  {
   "cell_type": "code",
   "execution_count": null,
   "id": "d9809f6d",
   "metadata": {},
   "outputs": [],
   "source": []
  }
 ],
 "metadata": {
  "kernelspec": {
   "display_name": "PythonData",
   "language": "python",
   "name": "pythondata"
  },
  "language_info": {
   "codemirror_mode": {
    "name": "ipython",
    "version": 3
   },
   "file_extension": ".py",
   "mimetype": "text/x-python",
   "name": "python",
   "nbconvert_exporter": "python",
   "pygments_lexer": "ipython3",
   "version": "3.11.3"
  }
 },
 "nbformat": 4,
 "nbformat_minor": 5
}
